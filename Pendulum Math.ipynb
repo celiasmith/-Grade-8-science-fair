{
 "metadata": {
  "name": "",
  "signature": "sha256:bb2f31c8ea2422b0a1f237818e7ab96beb3b17a1fcdd7739f524be50652b7027"
 },
 "nbformat": 3,
 "nbformat_minor": 0,
 "worksheets": [
  {
   "cells": [
    {
     "cell_type": "markdown",
     "metadata": {},
     "source": [
      "<img src=\"Tangent.gif\">"
     ]
    },
    {
     "cell_type": "markdown",
     "metadata": {},
     "source": [
      "newtons second law of motion is:\n",
      "$F=ma$\n",
      "\n",
      "F is the force m is the mass and a is the acceleration.\n",
      "the force due to gravity is therefore $mg$\n",
      "\n",
      "Where g is the acceleration due to gravity, on earth that is $-9.8 m/s^2$"
     ]
    },
    {
     "cell_type": "markdown",
     "metadata": {},
     "source": [
      "torque is a rotational force where:\n",
      "$t=rF_t$\n",
      "\n",
      "t is the torque r is the length and $F_t$ is the tangent force"
     ]
    },
    {
     "cell_type": "markdown",
     "metadata": {},
     "source": [
      "for a pendulum gravity is always down. to figure out the torque that gravity makes, you have to find how much gravity is on the angle 90 degrees from the radius (the tangent). Then you use: \n",
      "$\\sin(\\theta)=\\frac{opposite}{hypotenuse}$\n",
      "\n",
      "where opposite is the tangent force and hypotenuse is gravity\n",
      "\n",
      "therefore the tangent force is given by:\n",
      "$mg\\sin(\\theta)=F_t$\n",
      "\n",
      "$t=rmg\\sin(\\theta)$"
     ]
    },
    {
     "cell_type": "markdown",
     "metadata": {},
     "source": [
      "Angular momentum\n",
      "$t=m\\alpha$\n",
      "\n",
      "where $\\alpha$ is angular acceleration in radians\\degrees per second squared\n",
      "\n",
      "The distance around the circle is\n",
      "$c=r\\theta$\n",
      "\n",
      "So the angular velocity is the dirivitave of c:\n",
      "$\\frac{dc}{dt}=r\\frac{d\\theta}{dt}$\n",
      "\n",
      "so the angular acceleration is:\n",
      "$\\alpha=r\\frac{d^2\\theta}{dt^2}$\n",
      "\n",
      "So the torque from this momentum is $mr\\alpha$"
     ]
    },
    {
     "cell_type": "markdown",
     "metadata": {},
     "source": [
      "These two torques balance (This is newtons third law). So, the equation for a pendulum is:\n",
      "$r\\frac{d^2\\theta}{dt^2}=-g\\sin(\\theta)$\n",
      "\n",
      "$\\frac{d^2\\theta}{dt^2}=\\frac{-g}{r}\\sin(\\theta)$"
     ]
    },
    {
     "cell_type": "code",
     "collapsed": false,
     "input": [
      "%matplotlib inline"
     ],
     "language": "python",
     "metadata": {},
     "outputs": [],
     "prompt_number": 1
    },
    {
     "cell_type": "code",
     "collapsed": false,
     "input": [
      "import matplotlib.pylab as plt\n",
      "import numpy as np\n",
      "import time\n",
      "from IPython import display\n",
      "import timeit\n"
     ],
     "language": "python",
     "metadata": {},
     "outputs": [],
     "prompt_number": 2
    },
    {
     "cell_type": "code",
     "collapsed": false,
     "input": [
      "import matplotlib.pylab as plt\n",
      "import numpy as np\n",
      "import time\n",
      "from IPython import display\n",
      "import timeit\n",
      " \n",
      "r=1.0        #measured in meters\n",
      "g=-9.8     #the acceleration due to the gravity of earth in m/s^2\n",
      "theta=np.pi*3/2+3#starting theta\n",
      "dtheta=0\n",
      "run_time = 5. #seconds to simulate\n",
      "dt = 0.1 #seconds (10ms)\n",
      "\n",
      "#plt.figure(figsize=(12,12))\n",
      "#plt.axes().set_aspect('equal')\n",
      "start = timeit.default_timer()\n",
      "\n",
      "#Your statements here\n",
      "\n",
      "for t in range(0,np.floor(run_time/dt).astype(np.int64)):\n",
      "    ddtheta=-g/r*np.sin(theta)*dt**2\n",
      "    dtheta=dtheta+ddtheta\n",
      "    theta=theta+dtheta\n",
      "    \n",
      "    x=np.sin(theta)*r\n",
      "    y=np.cos(theta)*r\n",
      "    \n",
      "    plt.figure(figsize=(6,6))\n",
      "    plt.axis([-1.5,1.5,-1.5,1.5])\n",
      "    plt.grid(\"on\")\n",
      "    plt.axes().set_aspect('equal')\n",
      "    plt.plot([0,x],[0,y])\n",
      "    plt.plot(0,0,\"ro\",markersize=5)\n",
      "    plt.plot(x,y,\"bo\",markersize=20)\n",
      "    \n",
      "    display.clear_output(wait=True)\n",
      "    #display.display(plt.gcf())\n",
      "    #plt.clf()\n",
      "    plt.show()\n",
      "    #time.sleep(0.1)    \n",
      "\n",
      "plt.close()\n",
      "stop = timeit.default_timer()\n",
      "\n",
      "print stop - start #run time\n"
     ],
     "language": "python",
     "metadata": {},
     "outputs": [
      {
       "metadata": {},
       "output_type": "display_data",
       "png": "[encoded data removed]",
       "text": [
        "<matplotlib.figure.Figure at 0x106e40590>"
       ]
      },
      {
       "output_type": "stream",
       "stream": "stdout",
       "text": [
        "6.96213293076\n"
       ]
      }
     ],
     "prompt_number": 3
    },
    {
     "cell_type": "code",
     "collapsed": false,
     "input": [],
     "language": "python",
     "metadata": {},
     "outputs": []
    }
   ],
   "metadata": {}
  }
 ]
}