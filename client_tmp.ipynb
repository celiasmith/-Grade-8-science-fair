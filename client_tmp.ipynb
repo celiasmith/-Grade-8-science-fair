{
 "metadata": {
  "name": "",
  "signature": "sha256:2ae04f0628b74a64cfb78ff4772df04c25840605b626d9f35c60f8d93fee94d2"
 },
 "nbformat": 3,
 "nbformat_minor": 0,
 "worksheets": [
  {
   "cells": [
    {
     "cell_type": "code",
     "collapsed": false,
     "input": [
      "##Client for arduino control over network\n",
      "import socket\n",
      "import sys\n",
      "import pygame\n",
      "import time\n",
      "\n",
      "HOST, PORT = \"192.168.0.116\", 9999\n",
      "\n",
      "pygame.init()\n",
      "pygame.event.set_grab(True)\n",
      "\n",
      "sock = socket.socket(socket.AF_INET, socket.SOCK_STREAM)\n",
      "try:\n",
      "    sock.connect((HOST, PORT))\n",
      "except:\n",
      "    raise\n",
      "    \n",
      "done = False\n",
      "while not done:\n",
      "    data = \"\"\n",
      "    events = pygame.event.get()\n",
      "    for event in events:\n",
      "        if event.type == pygame.KEYDOWN:\n",
      "            if event.key == pygame.K_LEFT:\n",
      "                data = \",\" \n",
      "            if event.key == pygame.K_RIGHT:\n",
      "                data = \".\"\n",
      "            if event.key == pygame.K_SPACE:\n",
      "                data = \" \"\n",
      "            if event.key == pygame.K_ESCAPE:\n",
      "                done = True\n",
      "    # Create a socket (SOCK_STREAM means a TCP socket)\n",
      "    try:\n",
      "        # Send data\n",
      "        #print data\n",
      "        if data != \"\":\n",
      "            sock.sendall(data + \"\\n\")\n",
      "        #print data.strip()\n",
      "        #Receive data from the server\n",
      "        #received = sock.recv(1024)\n",
      "    except:\n",
      "        raise\n",
      "    #print \"Sent:     {}\".format(data)\n",
      "    #print \"Received: {}\".format(received)\n",
      "    time.sleep(1)\n",
      "sock.close()\n",
      "print \"Client closed\""
     ],
     "language": "python",
     "metadata": {},
     "outputs": []
    },
    {
     "cell_type": "code",
     "collapsed": false,
     "input": [],
     "language": "python",
     "metadata": {},
     "outputs": [],
     "prompt_number": 0
    },
    {
     "cell_type": "code",
     "collapsed": false,
     "input": [],
     "language": "python",
     "metadata": {},
     "outputs": []
    }
   ],
   "metadata": {}
  }
 ]
}