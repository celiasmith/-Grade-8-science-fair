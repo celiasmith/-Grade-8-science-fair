{
 "metadata": {
  "name": "",
  "signature": "sha256:a67ffff0d264de5257eba7db1d5d9b46bf8e09b3b98701efd2f432252d5d18f6"
 },
 "nbformat": 3,
 "nbformat_minor": 0,
 "worksheets": []
}