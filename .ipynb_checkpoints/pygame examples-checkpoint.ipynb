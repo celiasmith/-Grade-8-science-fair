{
 "metadata": {
  "name": "",
  "signature": "sha256:f18910feb899f675e0adff3f4e37c0e69b0bc49870915565591489dfed118f00"
 },
 "nbformat": 3,
 "nbformat_minor": 0,
 "worksheets": [
  {
   "cells": [
    {
     "cell_type": "code",
     "collapsed": false,
     "input": [
      "# Sample Python/Pygame Programs\n",
      "# Simpson College Computer Science\n",
      "# http://programarcadegames.com/\n",
      "# http://simpson.edu/computer-science/\n",
      "  \n",
      "import pygame\n",
      "  \n",
      "# Define some colors\n",
      "BLACK    = (   0,   0,   0)\n",
      "WHITE    = ( 255, 255, 255)\n",
      "GREEN    = (   0, 255,   0)\n",
      "RED      = ( 255,   0,   0)\n",
      " \n",
      "def draw_stick_figure(screen, x, y):\n",
      "    # Head\n",
      "    pygame.draw.ellipse(screen, BLACK, [1 + x, y, 10, 10], 0)\n",
      "  \n",
      "    # Legs\n",
      "    pygame.draw.line(screen, BLACK, [5 + x, 17 + y], [10 + x, 27 + y], 2)\n",
      "    pygame.draw.line(screen, BLACK, [5 + x, 17 + y], [x, 27 + y], 2)\n",
      "  \n",
      "    # Body\n",
      "    pygame.draw.line(screen, RED, [5 + x, 17 + y], [5 + x, 7 + y], 2)\n",
      "  \n",
      "    # Arms\n",
      "    pygame.draw.line(screen, RED, [5 + x, 7 + y], [9 + x, 17 + y], 2)\n",
      "    pygame.draw.line(screen, RED, [5 + x, 7 + y], [1 + x, 17 + y], 2)\n",
      "     \n",
      "# Setup\n",
      "pygame.init()\n",
      "   \n",
      "# Set the width and height of the screen [width,height]\n",
      "size = [1400, 1000]\n",
      "screen = pygame.display.set_mode(size)\n",
      "  \n",
      "pygame.display.set_caption(\"My Game\")\n",
      "  \n",
      "#Loop until the user clicks the close button.\n",
      "done = False\n",
      "  \n",
      "# Used to manage how fast the screen updates\n",
      "clock = pygame.time.Clock()\n",
      " \n",
      "# Hide the mouse cursor\n",
      "pygame.mouse.set_visible(0)\n",
      " \n",
      "# Speed in pixels per frame\n",
      "x_speed = 0\n",
      "y_speed = 0\n",
      "  \n",
      "# Current position\n",
      "x_coord = 10\n",
      "y_coord = 10\n",
      " \n",
      "# -------- Main Program Loop -----------\n",
      "while not done:\n",
      "    # ALL EVENT PROCESSING SHOULD GO BELOW THIS COMMENT\n",
      "    for event in pygame.event.get(): # User did something\n",
      "        if event.type == pygame.QUIT: # If user clicked close\n",
      "            done = True # Flag that we are done so we exit this loop\n",
      "            # User pressed down on a key\n",
      "         \n",
      "        elif event.type == pygame.KEYDOWN:\n",
      "            # Figure out if it was an arrow key. If so\n",
      "            # adjust speed.\n",
      "            if event.key == pygame.K_LEFT:\n",
      "                x_speed =- 3\n",
      "            elif event.key == pygame.K_RIGHT:\n",
      "                x_speed = 3\n",
      "            elif event.key == pygame.K_UP:\n",
      "                y_speed =- 3\n",
      "            elif event.key == pygame.K_DOWN:\n",
      "                y_speed = 3\n",
      "                  \n",
      "        # User let up on a key\n",
      "        elif event.type == pygame.KEYUP:\n",
      "            # If it is an arrow key, reset vector back to zero\n",
      "            if event.key == pygame.K_LEFT:\n",
      "                x_speed=0\n",
      "            elif event.key == pygame.K_RIGHT:\n",
      "                x_speed=0\n",
      "            elif event.key == pygame.K_UP:\n",
      "                y_speed=0\n",
      "            elif event.key == pygame.K_DOWN:\n",
      "                y_speed=0\n",
      "    # ALL EVENT PROCESSING SHOULD GO ABOVE THIS COMMENT\n",
      " \n",
      "    # ALL GAME LOGIC SHOULD GO BELOW THIS COMMENT\n",
      " \n",
      "    # Move the object according to the speed vector.\n",
      "    x_coord = x_coord + x_speed\n",
      "    y_coord = y_coord + y_speed\n",
      " \n",
      "    # ALL GAME LOGIC SHOULD GO ABOVE THIS COMMENT    \n",
      " \n",
      "    # ALL CODE TO DRAW SHOULD GO BELOW THIS COMMENT\n",
      "      \n",
      "    # First, clear the screen to WHITE. Don't put other drawing commands\n",
      "    # above this, or they will be erased with this command.\n",
      "    screen.fill(WHITE)\n",
      "     \n",
      "    draw_stick_figure(screen, x_coord, y_coord) \n",
      " \n",
      "    # ALL CODE TO DRAW SHOULD GO ABOVE THIS COMMENT\n",
      "      \n",
      "    # Go ahead and update the screen with what we've drawn.\n",
      "    pygame.display.flip()\n",
      "  \n",
      "    # Limit to 60 frames per second\n",
      "    clock.tick(60)\n",
      "      \n",
      "# Close the window and quit.\n",
      "# If you forget this line, the program will 'hang'\n",
      "# on exit if running from IDLE.\n",
      "pygame.quit()"
     ],
     "language": "python",
     "metadata": {},
     "outputs": [],
     "prompt_number": 1
    },
    {
     "cell_type": "code",
     "collapsed": false,
     "input": [
      "\"\"\"\n",
      "Sample Python/Pygame Programs\n",
      "Simpson College Computer Science\n",
      "http://programarcadegames.com/\n",
      "http://simpson.edu/computer-science/\n",
      " \n",
      "Show everything we can pull off the joystick\n",
      "\"\"\"\n",
      "import pygame\n",
      " \n",
      "# Define some colors\n",
      "BLACK = (0, 0, 0)\n",
      "WHITE = (255, 255, 255)\n",
      " \n",
      "class TextPrint(object):\n",
      "    \"\"\"\n",
      "    This is a simple class that will help us print to the screen\n",
      "    It has nothing to do with the joysticks, just outputting the\n",
      "    information.\n",
      "    \"\"\"\n",
      "    def __init__(self):\n",
      "        \"\"\" Constructor \"\"\"\n",
      "        self.reset()\n",
      "        self.x_pos = 10\n",
      "        self.y_pos = 10\n",
      "        self.font = pygame.font.Font(None, 20)\n",
      " \n",
      "    def prints(self, my_screen, text_string):\n",
      "        \"\"\" Draw text onto the screen. \"\"\"\n",
      "        text_bitmap = self.font.render(text_string, True, BLACK)\n",
      "        my_screen.blit(text_bitmap, [self.x_pos, self.y_pos])\n",
      "        self.y_pos += self.line_height\n",
      " \n",
      "    def reset(self):\n",
      "        \"\"\" Reset text to the top of the screen. \"\"\"\n",
      "        self.x_pos = 10\n",
      "        self.y_pos = 10\n",
      "        self.line_height = 50\n",
      " \n",
      "    def indent(self):\n",
      "        \"\"\" Indent the next line of text \"\"\"\n",
      "        self.x_pos += 50\n",
      " \n",
      "    def unindent(self):\n",
      "        \"\"\" Unindent the next line of text \"\"\"\n",
      "        self.x_pos -= 50\n",
      " \n",
      " \n",
      "pygame.init()\n",
      " \n",
      "# Set the width and height of the screen [width,height]\n",
      "size = [500, 700]\n",
      "screen = pygame.display.set_mode(size)\n",
      " \n",
      "pygame.display.set_caption(\"ARM\")\n",
      " \n",
      "#Loop until the user clicks the close button.\n",
      "done = False\n",
      " \n",
      "# Used to manage how fast the screen updates\n",
      "clock = pygame.time.Clock()\n",
      " \n",
      "# Initialize the joysticks\n",
      "pygame.joystick.init()\n",
      " \n",
      "# Get ready to print\n",
      "textPrint = TextPrint()\n",
      " \n",
      "# -------- Main Program Loop -----------\n",
      "while not done:\n",
      "    # EVENT PROCESSING STEP\n",
      "    for event in pygame.event.get(): # User did something\n",
      "        if event.type == pygame.QUIT: # If user clicked close\n",
      "            done = True # Flag that we are done so we exit this loop\n",
      " \n",
      "        # Possible joystick actions: JOYAXISMOTION JOYBALLMOTION JOYBUTTONDOWN\n",
      "        # JOYBUTTONUP JOYHATMOTION\n",
      "        if event.type == pygame.JOYBUTTONDOWN:\n",
      "            print(\"Joystick button pressed.\")\n",
      "        if event.type == pygame.JOYBUTTONUP:\n",
      "            print(\"Joystick button released.\")\n",
      " \n",
      " \n",
      "    # DRAWING STEP\n",
      "    # First, clear the screen to white. Don't put other drawing commands\n",
      "    # above this, or they will be erased with this command.\n",
      "    screen.fill(WHITE)\n",
      "    textPrint.reset()\n",
      " \n",
      "    # Get count of joysticks\n",
      "    joystick_count = pygame.joystick.get_count()\n",
      " \n",
      "    textPrint.prints(screen, \"Number of joysticks: {}\".format(joystick_count))\n",
      "    textPrint.indent()\n",
      " \n",
      "    # For each joystick:\n",
      "    for i in range(joystick_count):\n",
      "        joystick = pygame.joystick.Joystick(i)\n",
      "        joystick.init()\n",
      " \n",
      "        textPrint.prints(screen, \"Joystick {}\".format(i))\n",
      "        textPrint.indent()\n",
      " \n",
      "        # Get the name from the OS for the controller/joystick\n",
      "        name = joystick.get_name()\n",
      "        textPrint.prints(screen, \"Joystick name: {}\".format(name))\n",
      " \n",
      "        # Usually axis run in pairs, up/down for one, and left/right for\n",
      "        # the other.\n",
      "        axes = joystick.get_numaxes()\n",
      "        textPrint.prints(screen, \"Number of axes: {}\".format(axes))\n",
      "        textPrint.indent()\n",
      " \n",
      "        for i in range(axes):\n",
      "            axis = joystick.get_axis(i)\n",
      "            textPrint.prints(screen, \"Axis {} value: {:>6.3f}\".format(i, axis))\n",
      "        textPrint.unindent()\n",
      " \n",
      "        buttons = joystick.get_numbuttons()\n",
      "        textPrint.prints(screen, \"Number of buttons: {}\".format(buttons))\n",
      "        textPrint.indent()\n",
      " \n",
      "        for i in range(buttons):\n",
      "            button = joystick.get_button(i)\n",
      "            textPrint.prints(screen, \"Button {:>2} value: {}\".format(i, button))\n",
      "        textPrint.unindent()\n",
      " \n",
      "        # Hat switch. All or nothing for direction, not like joysticks.\n",
      "        # Value comes back in an array.\n",
      "        hats = joystick.get_numhats()\n",
      "        textPrint.prints(screen, \"Number of hats: {}\".format(hats))\n",
      "        textPrint.indent()\n",
      " \n",
      "        for i in range(hats):\n",
      "            hat = joystick.get_hat(i)\n",
      "            textPrint.prints(screen, \"Hat {} value: {}\".format(i, str(hat)))\n",
      "        textPrint.unindent()\n",
      " \n",
      "        textPrint.unindent()\n",
      " \n",
      " \n",
      "    # ALL CODE TO DRAW SHOULD GO ABOVE THIS COMMENT\n",
      " \n",
      "    # Go ahead and update the screen with what we've drawn.\n",
      "    pygame.display.flip()\n",
      " \n",
      "    # Limit to 60 frames per second\n",
      "    clock.tick(60)\n",
      " \n",
      "# Close the window and quit.\n",
      "# If you forget this line, the program will 'hang'\n",
      "# on exit if running from IDLE.\n",
      "pygame.quit()"
     ],
     "language": "python",
     "metadata": {},
     "outputs": [
      {
       "output_type": "stream",
       "stream": "stdout",
       "text": [
        "Joystick button pressed.\n",
        "Joystick button released."
       ]
      },
      {
       "output_type": "stream",
       "stream": "stdout",
       "text": [
        "\n",
        "Joystick button pressed."
       ]
      },
      {
       "output_type": "stream",
       "stream": "stdout",
       "text": [
        "\n",
        "Joystick button released."
       ]
      },
      {
       "output_type": "stream",
       "stream": "stdout",
       "text": [
        "\n",
        "Joystick button pressed."
       ]
      },
      {
       "output_type": "stream",
       "stream": "stdout",
       "text": [
        "\n",
        "Joystick button released."
       ]
      },
      {
       "output_type": "stream",
       "stream": "stdout",
       "text": [
        "\n",
        "Joystick button pressed."
       ]
      },
      {
       "output_type": "stream",
       "stream": "stdout",
       "text": [
        "\n",
        "Joystick button released."
       ]
      },
      {
       "output_type": "stream",
       "stream": "stdout",
       "text": [
        "\n",
        "Joystick button pressed."
       ]
      },
      {
       "output_type": "stream",
       "stream": "stdout",
       "text": [
        "\n",
        "Joystick button released."
       ]
      },
      {
       "output_type": "stream",
       "stream": "stdout",
       "text": [
        "\n",
        "Joystick button pressed."
       ]
      },
      {
       "output_type": "stream",
       "stream": "stdout",
       "text": [
        "\n",
        "Joystick button released."
       ]
      },
      {
       "output_type": "stream",
       "stream": "stdout",
       "text": [
        "\n",
        "Joystick button pressed."
       ]
      },
      {
       "output_type": "stream",
       "stream": "stdout",
       "text": [
        "\n",
        "Joystick button released."
       ]
      },
      {
       "output_type": "stream",
       "stream": "stdout",
       "text": [
        "\n",
        "Joystick button pressed."
       ]
      },
      {
       "output_type": "stream",
       "stream": "stdout",
       "text": [
        "\n",
        "Joystick button released."
       ]
      },
      {
       "output_type": "stream",
       "stream": "stdout",
       "text": [
        "\n",
        "Joystick button pressed."
       ]
      },
      {
       "output_type": "stream",
       "stream": "stdout",
       "text": [
        "\n",
        "Joystick button pressed."
       ]
      },
      {
       "output_type": "stream",
       "stream": "stdout",
       "text": [
        "\n",
        "Joystick button released.\n",
        "Joystick button released."
       ]
      },
      {
       "output_type": "stream",
       "stream": "stdout",
       "text": [
        "\n",
        "Joystick button pressed."
       ]
      },
      {
       "output_type": "stream",
       "stream": "stdout",
       "text": [
        "\n",
        "Joystick button pressed.\n",
        "Joystick button released."
       ]
      },
      {
       "output_type": "stream",
       "stream": "stdout",
       "text": [
        "\n",
        "Joystick button released."
       ]
      },
      {
       "output_type": "stream",
       "stream": "stdout",
       "text": [
        "\n",
        "Joystick button pressed."
       ]
      },
      {
       "output_type": "stream",
       "stream": "stdout",
       "text": [
        "\n",
        "Joystick button released."
       ]
      },
      {
       "output_type": "stream",
       "stream": "stdout",
       "text": [
        "\n",
        "Joystick button pressed."
       ]
      },
      {
       "output_type": "stream",
       "stream": "stdout",
       "text": [
        "\n",
        "Joystick button released."
       ]
      },
      {
       "output_type": "stream",
       "stream": "stdout",
       "text": [
        "\n",
        "Joystick button pressed."
       ]
      },
      {
       "output_type": "stream",
       "stream": "stdout",
       "text": [
        "\n",
        "Joystick button released."
       ]
      },
      {
       "output_type": "stream",
       "stream": "stdout",
       "text": [
        "\n",
        "Joystick button pressed."
       ]
      },
      {
       "output_type": "stream",
       "stream": "stdout",
       "text": [
        "\n",
        "Joystick button released."
       ]
      },
      {
       "output_type": "stream",
       "stream": "stdout",
       "text": [
        "\n",
        "Joystick button pressed."
       ]
      },
      {
       "output_type": "stream",
       "stream": "stdout",
       "text": [
        "\n",
        "Joystick button released."
       ]
      },
      {
       "output_type": "stream",
       "stream": "stdout",
       "text": [
        "\n",
        "Joystick button pressed."
       ]
      },
      {
       "output_type": "stream",
       "stream": "stdout",
       "text": [
        "\n",
        "Joystick button released."
       ]
      },
      {
       "output_type": "stream",
       "stream": "stdout",
       "text": [
        "\n",
        "Joystick button pressed."
       ]
      },
      {
       "output_type": "stream",
       "stream": "stdout",
       "text": [
        "\n",
        "Joystick button released."
       ]
      },
      {
       "output_type": "stream",
       "stream": "stdout",
       "text": [
        "\n",
        "Joystick button pressed."
       ]
      },
      {
       "output_type": "stream",
       "stream": "stdout",
       "text": [
        "\n",
        "Joystick button released."
       ]
      },
      {
       "output_type": "stream",
       "stream": "stdout",
       "text": [
        "\n",
        "Joystick button pressed."
       ]
      },
      {
       "output_type": "stream",
       "stream": "stdout",
       "text": [
        "\n",
        "Joystick button released."
       ]
      },
      {
       "output_type": "stream",
       "stream": "stdout",
       "text": [
        "\n",
        "Joystick button pressed."
       ]
      },
      {
       "output_type": "stream",
       "stream": "stdout",
       "text": [
        "\n",
        "Joystick button released."
       ]
      },
      {
       "output_type": "stream",
       "stream": "stdout",
       "text": [
        "\n"
       ]
      }
     ],
     "prompt_number": 6
    },
    {
     "cell_type": "code",
     "collapsed": false,
     "input": [
      "#moves around a dood with the joystikk\n",
      "# Sample Python/Pygame Programs\n",
      "# Simpson College Computer Science\n",
      "# http://programarcadegames.com/\n",
      "# http://simpson.edu/computer-science/\n",
      "  \n",
      "import pygame\n",
      "import numpy as np\n",
      "  \n",
      "# Define some colors\n",
      "BLACK    = (   0,   0,   0)\n",
      "WHITE    = ( 255, 255, 255)\n",
      "GREEN    = (   0, 255,   0)\n",
      "RED      = ( 255,   0,   0)\n",
      "PURPLE   = ( 255,   0, 255)\n",
      "BLUE     = (   0,   0, 255)\n",
      "def draw_stick_figure(screen, x, y):\n",
      "    # Head\n",
      "    pygame.draw.ellipse(screen, GREEN, [1 + x, y, 10, 10], 0)\n",
      "  \n",
      "    # Legs\n",
      "    pygame.draw.line(screen, BLACK, [5 + x, 17 + y], [10 + x, 27 + y], 2)\n",
      "    pygame.draw.line(screen, BLACK, [5 + x, 17 + y], [x, 27 + y], 2)\n",
      "  \n",
      "    # Body\n",
      "    pygame.draw.line(screen, RED, [5 + x, 17 + y], [5 + x, 7 + y], 2)\n",
      "  \n",
      "    # Arms\n",
      "    pygame.draw.line(screen, RED, [5 + x, 7 + y], [9 + x, 17 + y], 2)\n",
      "    pygame.draw.line(screen, RED, [5 + x, 7 + y], [1 + x, 17 + y], 2)\n",
      "     \n",
      "# Setup\n",
      "pygame.init()\n",
      "   \n",
      "# Set the width and height of the screen [width,height]\n",
      "size = [600,600]\n",
      "screen = pygame.display.set_mode(size)\n",
      "font = pygame.font.Font(None, 20)\n",
      "\n",
      "score = 0\n",
      "pygame.display.set_caption(\"My Cool Game\")\n",
      "bullety = 1\n",
      "bulletx = 1\n",
      "enemyy = 0\n",
      "enemyx = np.random.rand(1,1)*600\n",
      "enemy2y = 0\n",
      "enemy2x = np.random.rand(1,1)*600\n",
      "#Loop until the user clicks the close button.\n",
      "done = False\n",
      "  \n",
      "# Used to manage how fast the screen updates\n",
      "clock = pygame.time.Clock()\n",
      " \n",
      "# Hide the mouse cursor\n",
      "pygame.mouse.set_visible(0)\n",
      " \n",
      "# Speed in pixels per frame\n",
      "x_speed = 0\n",
      "y_speed = 0\n",
      "dashleft = 0\n",
      "dashright = 0\n",
      "# Current position\n",
      "x_coord = 10\n",
      "y_coord = 10\n",
      " \n",
      "# -------- Main Program Loop -----------\n",
      "while not done:\n",
      "    # ALL EVENT PROCESSING SHOULD GO BELOW THIS COMMENT\n",
      "    for event in pygame.event.get(): # User did something\n",
      "        if event.type == pygame.QUIT: # If user clicked close\n",
      "            done = True # Flag that we are done so we exit this loop\n",
      "            # User pressed down on a key\n",
      "    \n",
      "    \n",
      "    def draw_stick_figure(screen, x, y):\n",
      "    # Head\n",
      "        pygame.draw.ellipse(screen, GREEN, [1 + x, y, 10, 10], 0)\n",
      "  \n",
      "    # Legs\n",
      "        pygame.draw.line(screen, BLACK, [5 + x, 17 + y], [10 + x, 27 + y], 2)\n",
      "        pygame.draw.line(screen, BLACK, [5 + x, 17 + y], [x, 27 + y], 2)\n",
      "  \n",
      "    # Body\n",
      "        pygame.draw.line(screen, RED, [5 + x, 17 + y], [5 + x, 7 + y], 2)\n",
      "  \n",
      "    # Arms\n",
      "        pygame.draw.line(screen, RED, [5 + x, 7 + y], [9 + x, 17 + y-(a*16)], 2)\n",
      "        pygame.draw.line(screen, RED, [5 + x, 7 + y], [1 + x, 17 + y-(a*16)], 2)\n",
      "     \n",
      "        \n",
      "        \n",
      "    joystick = pygame.joystick.Joystick(0)\n",
      "    joystick.init()\n",
      "    \n",
      "    axis0 = joystick.get_axis(0)\n",
      "    axis1 = joystick.get_axis(1)\n",
      "    \n",
      "    a = joystick.get_button(2)\n",
      "    b = joystick.get_button(0)\n",
      "    c = joystick.get_button(1)\n",
      "    \n",
      "    \n",
      "    x_speed = axis0*6\n",
      "    y_speed = axis1*6\n",
      "    \n",
      "    # ALL EVENT PROCESSING SHOULD GO ABOVE THIS COMMENT\n",
      " \n",
      "    # ALL GAME LOGIC SHOULD GO BELOW THIS COMMENT\n",
      " \n",
      "    # Move the object according to the speed vector.\n",
      "    \n",
      "    \n",
      "    \n",
      "    if a == True:\n",
      "        bulletx = x_coord\n",
      "        bullety = y_coord\n",
      "    if b == True and x_coord > 300:\n",
      "        dashleft = 10\n",
      "        \n",
      "    if b == True and x_coord < 300:\n",
      "        dashright = 10\n",
      "    if dashleft > 0:\n",
      "        x_speed = -15\n",
      "        dashleft = dashleft-1\n",
      "    if dashright > 0:\n",
      "        x_speed = 15\n",
      "        dashright = dashright - 1\n",
      "    if bulletx < enemyx+20 and bulletx > enemyx-20 and bullety < enemyy+20 and bullety > enemyy-20:\n",
      "        enemyy = 0\n",
      "        enemyx = np.random.rand(1,1)*600\n",
      "        score = score + 10\n",
      "    if enemyy > 600:\n",
      "        enemyy = 0\n",
      "        enemyx = np.random.rand(1,1)*600    \n",
      "        score = score - 5\n",
      "    bullety = bullety-15\n",
      "    enemyy = enemyy+5\n",
      "    if bulletx < enemy2x+20 and bulletx > enemy2x-20 and bullety < enemy2y+20 and bullety > enemy2y-20:\n",
      "        enemy2y = 0\n",
      "        enemy2x = np.random.rand(1,1)*600\n",
      "        score = score + 10\n",
      "    if enemy2y > 600:\n",
      "        enemy2y = 0\n",
      "        enemy2x = np.random.rand(1,1)*600    \n",
      "        score = score - 5\n",
      "    enemy2y = enemy2y+5\n",
      "    \n",
      "    x_coord = x_coord + x_speed\n",
      "    y_coord = y_coord + y_speed\n",
      "    # ALL GAME LOGIC SHOULD GO ABOVE THIS COMMENT    \n",
      " \n",
      "    # ALL CODE TO DRAW SHOULD GO BELOW THIS COMMENT\n",
      "      \n",
      "    # First, clear the screen to WHITE. Don't put other drawing commands\n",
      "    # above this, or they will be erased with this command.\n",
      "    screen.fill(WHITE)\n",
      "    \n",
      "    pygame.draw.ellipse(screen, PURPLE, [bulletx, bullety+5, 10, 10], 0)\n",
      "    pygame.draw.ellipse(screen, BLUE, [enemyx-15, enemyy+20, 40, 40], 0)\n",
      "    pygame.draw.ellipse(screen, RED, [enemy2x-15, enemy2y+20, 40, 40], 0)\n",
      "    scorestring=\"score: %d\" %score\n",
      "    bitmap = font.render(scorestring, True, BLACK)\n",
      "    screen.blit(bitmap,[10,10]) \n",
      "    draw_stick_figure(screen, x_coord, y_coord) \n",
      "    # ALL CODE TO DRAW SHOULD GO ABOVE THIS COMMENT\n",
      "      \n",
      "    # Go ahead and update the screen with what we've drawn.\n",
      "    pygame.display.flip()\n",
      "    #print(x_coord,y_coord)\n",
      "    # Limit to 60 frames per second\n",
      "    clock.tick(60)\n",
      "      \n",
      "# Close the window and quit.\n",
      "# If you forget this line, the program will 'hang'\n",
      "# on exit if running from IDLE.\n",
      "pygame.quit()"
     ],
     "language": "python",
     "metadata": {},
     "outputs": []
    },
    {
     "cell_type": "code",
     "collapsed": false,
     "input": [],
     "language": "python",
     "metadata": {},
     "outputs": []
    },
    {
     "cell_type": "code",
     "collapsed": false,
     "input": [],
     "language": "python",
     "metadata": {},
     "outputs": []
    }
   ],
   "metadata": {}
  }
 ]
}